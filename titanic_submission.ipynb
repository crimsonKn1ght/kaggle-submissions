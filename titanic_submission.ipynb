{
 "cells": [
  {
   "cell_type": "code",
   "execution_count": 1,
   "id": "718adc31",
   "metadata": {
    "_cell_guid": "b1076dfc-b9ad-4769-8c92-a6c4dae69d19",
    "_uuid": "8f2839f25d086af736a60e9eeb907d3b93b6e0e5",
    "execution": {
     "iopub.execute_input": "2024-01-21T14:47:38.920275Z",
     "iopub.status.busy": "2024-01-21T14:47:38.919733Z",
     "iopub.status.idle": "2024-01-21T14:47:39.440072Z",
     "shell.execute_reply": "2024-01-21T14:47:39.438985Z"
    },
    "papermill": {
     "duration": 0.529808,
     "end_time": "2024-01-21T14:47:39.443022",
     "exception": false,
     "start_time": "2024-01-21T14:47:38.913214",
     "status": "completed"
    },
    "tags": []
   },
   "outputs": [
    {
     "name": "stdout",
     "output_type": "stream",
     "text": [
      "/kaggle/input/titanic/train.csv\n",
      "/kaggle/input/titanic/test.csv\n",
      "/kaggle/input/titanic/gender_submission.csv\n"
     ]
    }
   ],
   "source": [
    "# This Python 3 environment comes with many helpful analytics libraries installed\n",
    "# It is defined by the kaggle/python Docker image: https://github.com/kaggle/docker-python\n",
    "# For example, here's several helpful packages to load\n",
    "\n",
    "import numpy as np # linear algebra\n",
    "import pandas as pd # data processing, CSV file I/O (e.g. pd.read_csv)\n",
    "\n",
    "# Input data files are available in the read-only \"../input/\" directory\n",
    "# For example, running this (by clicking run or pressing Shift+Enter) will list all files under the input directory\n",
    "\n",
    "import os\n",
    "for dirname, _, filenames in os.walk('/kaggle/input'):\n",
    "    for filename in filenames:\n",
    "        print(os.path.join(dirname, filename))\n",
    "\n",
    "# You can write up to 20GB to the current directory (/kaggle/working/) that gets preserved as output when you create a version using \"Save & Run All\" \n",
    "# You can also write temporary files to /kaggle/temp/, but they won't be saved outside of the current session"
   ]
  },
  {
   "cell_type": "code",
   "execution_count": 2,
   "id": "6a9713a3",
   "metadata": {
    "execution": {
     "iopub.execute_input": "2024-01-21T14:47:39.454477Z",
     "iopub.status.busy": "2024-01-21T14:47:39.453817Z",
     "iopub.status.idle": "2024-01-21T14:47:39.506421Z",
     "shell.execute_reply": "2024-01-21T14:47:39.505214Z"
    },
    "papermill": {
     "duration": 0.061708,
     "end_time": "2024-01-21T14:47:39.509305",
     "exception": false,
     "start_time": "2024-01-21T14:47:39.447597",
     "status": "completed"
    },
    "tags": []
   },
   "outputs": [
    {
     "data": {
      "text/html": [
       "<div>\n",
       "<style scoped>\n",
       "    .dataframe tbody tr th:only-of-type {\n",
       "        vertical-align: middle;\n",
       "    }\n",
       "\n",
       "    .dataframe tbody tr th {\n",
       "        vertical-align: top;\n",
       "    }\n",
       "\n",
       "    .dataframe thead th {\n",
       "        text-align: right;\n",
       "    }\n",
       "</style>\n",
       "<table border=\"1\" class=\"dataframe\">\n",
       "  <thead>\n",
       "    <tr style=\"text-align: right;\">\n",
       "      <th></th>\n",
       "      <th>PassengerId</th>\n",
       "      <th>Survived</th>\n",
       "      <th>Pclass</th>\n",
       "      <th>Name</th>\n",
       "      <th>Sex</th>\n",
       "      <th>Age</th>\n",
       "      <th>SibSp</th>\n",
       "      <th>Parch</th>\n",
       "      <th>Ticket</th>\n",
       "      <th>Fare</th>\n",
       "      <th>Cabin</th>\n",
       "      <th>Embarked</th>\n",
       "    </tr>\n",
       "  </thead>\n",
       "  <tbody>\n",
       "    <tr>\n",
       "      <th>0</th>\n",
       "      <td>1</td>\n",
       "      <td>0</td>\n",
       "      <td>3</td>\n",
       "      <td>Braund, Mr. Owen Harris</td>\n",
       "      <td>male</td>\n",
       "      <td>22.0</td>\n",
       "      <td>1</td>\n",
       "      <td>0</td>\n",
       "      <td>A/5 21171</td>\n",
       "      <td>7.2500</td>\n",
       "      <td>NaN</td>\n",
       "      <td>S</td>\n",
       "    </tr>\n",
       "    <tr>\n",
       "      <th>1</th>\n",
       "      <td>2</td>\n",
       "      <td>1</td>\n",
       "      <td>1</td>\n",
       "      <td>Cumings, Mrs. John Bradley (Florence Briggs Th...</td>\n",
       "      <td>female</td>\n",
       "      <td>38.0</td>\n",
       "      <td>1</td>\n",
       "      <td>0</td>\n",
       "      <td>PC 17599</td>\n",
       "      <td>71.2833</td>\n",
       "      <td>C85</td>\n",
       "      <td>C</td>\n",
       "    </tr>\n",
       "    <tr>\n",
       "      <th>2</th>\n",
       "      <td>3</td>\n",
       "      <td>1</td>\n",
       "      <td>3</td>\n",
       "      <td>Heikkinen, Miss. Laina</td>\n",
       "      <td>female</td>\n",
       "      <td>26.0</td>\n",
       "      <td>0</td>\n",
       "      <td>0</td>\n",
       "      <td>STON/O2. 3101282</td>\n",
       "      <td>7.9250</td>\n",
       "      <td>NaN</td>\n",
       "      <td>S</td>\n",
       "    </tr>\n",
       "    <tr>\n",
       "      <th>3</th>\n",
       "      <td>4</td>\n",
       "      <td>1</td>\n",
       "      <td>1</td>\n",
       "      <td>Futrelle, Mrs. Jacques Heath (Lily May Peel)</td>\n",
       "      <td>female</td>\n",
       "      <td>35.0</td>\n",
       "      <td>1</td>\n",
       "      <td>0</td>\n",
       "      <td>113803</td>\n",
       "      <td>53.1000</td>\n",
       "      <td>C123</td>\n",
       "      <td>S</td>\n",
       "    </tr>\n",
       "    <tr>\n",
       "      <th>4</th>\n",
       "      <td>5</td>\n",
       "      <td>0</td>\n",
       "      <td>3</td>\n",
       "      <td>Allen, Mr. William Henry</td>\n",
       "      <td>male</td>\n",
       "      <td>35.0</td>\n",
       "      <td>0</td>\n",
       "      <td>0</td>\n",
       "      <td>373450</td>\n",
       "      <td>8.0500</td>\n",
       "      <td>NaN</td>\n",
       "      <td>S</td>\n",
       "    </tr>\n",
       "  </tbody>\n",
       "</table>\n",
       "</div>"
      ],
      "text/plain": [
       "   PassengerId  Survived  Pclass  \\\n",
       "0            1         0       3   \n",
       "1            2         1       1   \n",
       "2            3         1       3   \n",
       "3            4         1       1   \n",
       "4            5         0       3   \n",
       "\n",
       "                                                Name     Sex   Age  SibSp  \\\n",
       "0                            Braund, Mr. Owen Harris    male  22.0      1   \n",
       "1  Cumings, Mrs. John Bradley (Florence Briggs Th...  female  38.0      1   \n",
       "2                             Heikkinen, Miss. Laina  female  26.0      0   \n",
       "3       Futrelle, Mrs. Jacques Heath (Lily May Peel)  female  35.0      1   \n",
       "4                           Allen, Mr. William Henry    male  35.0      0   \n",
       "\n",
       "   Parch            Ticket     Fare Cabin Embarked  \n",
       "0      0         A/5 21171   7.2500   NaN        S  \n",
       "1      0          PC 17599  71.2833   C85        C  \n",
       "2      0  STON/O2. 3101282   7.9250   NaN        S  \n",
       "3      0            113803  53.1000  C123        S  \n",
       "4      0            373450   8.0500   NaN        S  "
      ]
     },
     "execution_count": 2,
     "metadata": {},
     "output_type": "execute_result"
    }
   ],
   "source": [
    "X_train = pd.read_csv(\"/kaggle/input/titanic/train.csv\")\n",
    "X_train.head()"
   ]
  },
  {
   "cell_type": "code",
   "execution_count": 3,
   "id": "28c7bb21",
   "metadata": {
    "execution": {
     "iopub.execute_input": "2024-01-21T14:47:39.520960Z",
     "iopub.status.busy": "2024-01-21T14:47:39.520495Z",
     "iopub.status.idle": "2024-01-21T14:47:39.546301Z",
     "shell.execute_reply": "2024-01-21T14:47:39.545188Z"
    },
    "papermill": {
     "duration": 0.034938,
     "end_time": "2024-01-21T14:47:39.549202",
     "exception": false,
     "start_time": "2024-01-21T14:47:39.514264",
     "status": "completed"
    },
    "tags": []
   },
   "outputs": [
    {
     "data": {
      "text/html": [
       "<div>\n",
       "<style scoped>\n",
       "    .dataframe tbody tr th:only-of-type {\n",
       "        vertical-align: middle;\n",
       "    }\n",
       "\n",
       "    .dataframe tbody tr th {\n",
       "        vertical-align: top;\n",
       "    }\n",
       "\n",
       "    .dataframe thead th {\n",
       "        text-align: right;\n",
       "    }\n",
       "</style>\n",
       "<table border=\"1\" class=\"dataframe\">\n",
       "  <thead>\n",
       "    <tr style=\"text-align: right;\">\n",
       "      <th></th>\n",
       "      <th>PassengerId</th>\n",
       "      <th>Pclass</th>\n",
       "      <th>Name</th>\n",
       "      <th>Sex</th>\n",
       "      <th>Age</th>\n",
       "      <th>SibSp</th>\n",
       "      <th>Parch</th>\n",
       "      <th>Ticket</th>\n",
       "      <th>Fare</th>\n",
       "      <th>Cabin</th>\n",
       "      <th>Embarked</th>\n",
       "    </tr>\n",
       "  </thead>\n",
       "  <tbody>\n",
       "    <tr>\n",
       "      <th>0</th>\n",
       "      <td>892</td>\n",
       "      <td>3</td>\n",
       "      <td>Kelly, Mr. James</td>\n",
       "      <td>male</td>\n",
       "      <td>34.5</td>\n",
       "      <td>0</td>\n",
       "      <td>0</td>\n",
       "      <td>330911</td>\n",
       "      <td>7.8292</td>\n",
       "      <td>NaN</td>\n",
       "      <td>Q</td>\n",
       "    </tr>\n",
       "    <tr>\n",
       "      <th>1</th>\n",
       "      <td>893</td>\n",
       "      <td>3</td>\n",
       "      <td>Wilkes, Mrs. James (Ellen Needs)</td>\n",
       "      <td>female</td>\n",
       "      <td>47.0</td>\n",
       "      <td>1</td>\n",
       "      <td>0</td>\n",
       "      <td>363272</td>\n",
       "      <td>7.0000</td>\n",
       "      <td>NaN</td>\n",
       "      <td>S</td>\n",
       "    </tr>\n",
       "    <tr>\n",
       "      <th>2</th>\n",
       "      <td>894</td>\n",
       "      <td>2</td>\n",
       "      <td>Myles, Mr. Thomas Francis</td>\n",
       "      <td>male</td>\n",
       "      <td>62.0</td>\n",
       "      <td>0</td>\n",
       "      <td>0</td>\n",
       "      <td>240276</td>\n",
       "      <td>9.6875</td>\n",
       "      <td>NaN</td>\n",
       "      <td>Q</td>\n",
       "    </tr>\n",
       "    <tr>\n",
       "      <th>3</th>\n",
       "      <td>895</td>\n",
       "      <td>3</td>\n",
       "      <td>Wirz, Mr. Albert</td>\n",
       "      <td>male</td>\n",
       "      <td>27.0</td>\n",
       "      <td>0</td>\n",
       "      <td>0</td>\n",
       "      <td>315154</td>\n",
       "      <td>8.6625</td>\n",
       "      <td>NaN</td>\n",
       "      <td>S</td>\n",
       "    </tr>\n",
       "    <tr>\n",
       "      <th>4</th>\n",
       "      <td>896</td>\n",
       "      <td>3</td>\n",
       "      <td>Hirvonen, Mrs. Alexander (Helga E Lindqvist)</td>\n",
       "      <td>female</td>\n",
       "      <td>22.0</td>\n",
       "      <td>1</td>\n",
       "      <td>1</td>\n",
       "      <td>3101298</td>\n",
       "      <td>12.2875</td>\n",
       "      <td>NaN</td>\n",
       "      <td>S</td>\n",
       "    </tr>\n",
       "  </tbody>\n",
       "</table>\n",
       "</div>"
      ],
      "text/plain": [
       "   PassengerId  Pclass                                          Name     Sex  \\\n",
       "0          892       3                              Kelly, Mr. James    male   \n",
       "1          893       3              Wilkes, Mrs. James (Ellen Needs)  female   \n",
       "2          894       2                     Myles, Mr. Thomas Francis    male   \n",
       "3          895       3                              Wirz, Mr. Albert    male   \n",
       "4          896       3  Hirvonen, Mrs. Alexander (Helga E Lindqvist)  female   \n",
       "\n",
       "    Age  SibSp  Parch   Ticket     Fare Cabin Embarked  \n",
       "0  34.5      0      0   330911   7.8292   NaN        Q  \n",
       "1  47.0      1      0   363272   7.0000   NaN        S  \n",
       "2  62.0      0      0   240276   9.6875   NaN        Q  \n",
       "3  27.0      0      0   315154   8.6625   NaN        S  \n",
       "4  22.0      1      1  3101298  12.2875   NaN        S  "
      ]
     },
     "execution_count": 3,
     "metadata": {},
     "output_type": "execute_result"
    }
   ],
   "source": [
    "X_test = pd.read_csv(\"/kaggle/input/titanic/test.csv\")\n",
    "X_test.head()"
   ]
  },
  {
   "cell_type": "code",
   "execution_count": 4,
   "id": "8f56d990",
   "metadata": {
    "execution": {
     "iopub.execute_input": "2024-01-21T14:47:39.561678Z",
     "iopub.status.busy": "2024-01-21T14:47:39.561040Z",
     "iopub.status.idle": "2024-01-21T14:47:39.573317Z",
     "shell.execute_reply": "2024-01-21T14:47:39.571814Z"
    },
    "papermill": {
     "duration": 0.021904,
     "end_time": "2024-01-21T14:47:39.576319",
     "exception": false,
     "start_time": "2024-01-21T14:47:39.554415",
     "status": "completed"
    },
    "tags": []
   },
   "outputs": [
    {
     "name": "stdout",
     "output_type": "stream",
     "text": [
      "The percentage of survivng women is: 0.7420382165605095\n"
     ]
    }
   ],
   "source": [
    "female = X_train.loc[X_train.Sex == 'female'][\"Survived\"]\n",
    "survived = sum(female) / len(female)\n",
    "\n",
    "print(\"The percentage of survivng women is:\", survived)"
   ]
  },
  {
   "cell_type": "code",
   "execution_count": 5,
   "id": "d6717bb2",
   "metadata": {
    "execution": {
     "iopub.execute_input": "2024-01-21T14:47:39.589075Z",
     "iopub.status.busy": "2024-01-21T14:47:39.588629Z",
     "iopub.status.idle": "2024-01-21T14:47:39.598561Z",
     "shell.execute_reply": "2024-01-21T14:47:39.597299Z"
    },
    "papermill": {
     "duration": 0.02058,
     "end_time": "2024-01-21T14:47:39.602289",
     "exception": false,
     "start_time": "2024-01-21T14:47:39.581709",
     "status": "completed"
    },
    "tags": []
   },
   "outputs": [
    {
     "name": "stdout",
     "output_type": "stream",
     "text": [
      "The percentage of surviving men are: 0.18890814558058924\n"
     ]
    }
   ],
   "source": [
    "male = X_train.loc[X_train.Sex == 'male'][\"Survived\"]\n",
    "survived = sum(male) / len(male)\n",
    "\n",
    "print(\"The percentage of surviving men are:\", survived)"
   ]
  },
  {
   "cell_type": "code",
   "execution_count": 6,
   "id": "8bb182c1",
   "metadata": {
    "execution": {
     "iopub.execute_input": "2024-01-21T14:47:39.615989Z",
     "iopub.status.busy": "2024-01-21T14:47:39.615283Z",
     "iopub.status.idle": "2024-01-21T14:47:41.538302Z",
     "shell.execute_reply": "2024-01-21T14:47:41.537020Z"
    },
    "papermill": {
     "duration": 1.934289,
     "end_time": "2024-01-21T14:47:41.541873",
     "exception": false,
     "start_time": "2024-01-21T14:47:39.607584",
     "status": "completed"
    },
    "tags": []
   },
   "outputs": [],
   "source": [
    "from sklearn.ensemble import RandomForestClassifier"
   ]
  },
  {
   "cell_type": "code",
   "execution_count": 7,
   "id": "f25679e8",
   "metadata": {
    "execution": {
     "iopub.execute_input": "2024-01-21T14:47:41.555439Z",
     "iopub.status.busy": "2024-01-21T14:47:41.554722Z",
     "iopub.status.idle": "2024-01-21T14:47:41.573506Z",
     "shell.execute_reply": "2024-01-21T14:47:41.572004Z"
    },
    "papermill": {
     "duration": 0.029079,
     "end_time": "2024-01-21T14:47:41.576486",
     "exception": false,
     "start_time": "2024-01-21T14:47:41.547407",
     "status": "completed"
    },
    "tags": []
   },
   "outputs": [],
   "source": [
    "fare_bins = [0, 25, 60, float('inf')]\n",
    "fare_labels = ['fare_0-25', 'fare_26-60', 'fare_60+']\n",
    "X_train['Fare_Range'] = pd.cut(X_train['Fare'], bins=fare_bins, labels=fare_labels, include_lowest=True, right=False)\n",
    "\n",
    "fare_bins = [0, 25, 60, float('inf')]\n",
    "fare_labels = ['fare_0-25', 'fare_26-60', 'fare_60+']\n",
    "X_test['Fare_Range'] = pd.cut(X_test['Fare'], bins=fare_bins, labels=fare_labels, include_lowest=True, right=False)"
   ]
  },
  {
   "cell_type": "code",
   "execution_count": 8,
   "id": "da9bda87",
   "metadata": {
    "execution": {
     "iopub.execute_input": "2024-01-21T14:47:41.589972Z",
     "iopub.status.busy": "2024-01-21T14:47:41.589476Z",
     "iopub.status.idle": "2024-01-21T14:47:41.873887Z",
     "shell.execute_reply": "2024-01-21T14:47:41.872284Z"
    },
    "papermill": {
     "duration": 0.294682,
     "end_time": "2024-01-21T14:47:41.877145",
     "exception": false,
     "start_time": "2024-01-21T14:47:41.582463",
     "status": "completed"
    },
    "tags": []
   },
   "outputs": [
    {
     "name": "stdout",
     "output_type": "stream",
     "text": [
      "Done!\n"
     ]
    }
   ],
   "source": [
    "Y_train = X_train[\"Survived\"]\n",
    "\n",
    "features = [\"Pclass\", \"Sex\", \"Parch\", \"Fare_Range\"]\n",
    "X1_train = pd.get_dummies(X_train[features])\n",
    "X1_test = pd.get_dummies(X_test[features])\n",
    "\n",
    "model = RandomForestClassifier(n_estimators=100, max_depth=5, random_state=1)\n",
    "model.fit(X1_train, Y_train)\n",
    "\n",
    "predictions = model.predict(X1_test)\n",
    "\n",
    "output = pd.DataFrame({'PassengerId': X_test.PassengerId, 'Survived': predictions})\n",
    "output.to_csv('submission.csv', index=False)\n",
    "print(\"Done!\")"
   ]
  },
  {
   "cell_type": "code",
   "execution_count": null,
   "id": "b06fb8aa",
   "metadata": {
    "papermill": {
     "duration": 0.00509,
     "end_time": "2024-01-21T14:47:41.888399",
     "exception": false,
     "start_time": "2024-01-21T14:47:41.883309",
     "status": "completed"
    },
    "tags": []
   },
   "outputs": [],
   "source": []
  }
 ],
 "metadata": {
  "kaggle": {
   "accelerator": "none",
   "dataSources": [
    {
     "databundleVersionId": 26502,
     "sourceId": 3136,
     "sourceType": "competition"
    }
   ],
   "dockerImageVersionId": 30635,
   "isGpuEnabled": false,
   "isInternetEnabled": true,
   "language": "python",
   "sourceType": "notebook"
  },
  "kernelspec": {
   "display_name": "Python 3",
   "language": "python",
   "name": "python3"
  },
  "language_info": {
   "codemirror_mode": {
    "name": "ipython",
    "version": 3
   },
   "file_extension": ".py",
   "mimetype": "text/x-python",
   "name": "python",
   "nbconvert_exporter": "python",
   "pygments_lexer": "ipython3",
   "version": "3.10.12"
  },
  "papermill": {
   "default_parameters": {},
   "duration": 7.608993,
   "end_time": "2024-01-21T14:47:42.819006",
   "environment_variables": {},
   "exception": null,
   "input_path": "__notebook__.ipynb",
   "output_path": "__notebook__.ipynb",
   "parameters": {},
   "start_time": "2024-01-21T14:47:35.210013",
   "version": "2.4.0"
  }
 },
 "nbformat": 4,
 "nbformat_minor": 5
}
