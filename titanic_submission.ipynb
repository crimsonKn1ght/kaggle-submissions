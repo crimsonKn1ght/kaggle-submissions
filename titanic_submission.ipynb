{
 "cells": [
  {
   "cell_type": "code",
   "execution_count": null,
   "id": "012ad139",
   "metadata": {},
   "outputs": [],
   "source": [
    "import pandas as pd\n",
    "\n",
    "import os\n",
    "for dirname, _, filenames in os.walk('./'):\n",
    "    for filename in filenames:\n",
    "        print(os.path.join(dirname, filename).replace(os.sep, '/'))"
   ]
  },
  {
   "cell_type": "code",
   "execution_count": null,
   "id": "5f54738a",
   "metadata": {},
   "outputs": [],
   "source": [
    "X_train = pd.read_csv(\"D:/kaggle/titanic/train.csv\")\n",
    "X_train.head()"
   ]
  },
  {
   "cell_type": "code",
   "execution_count": null,
   "id": "5a8cc069",
   "metadata": {},
   "outputs": [],
   "source": [
    "X_test = pd.read_csv(\"D:/kaggle/titanic/test.csv\")\n",
    "X_test.head()"
   ]
  },
  {
   "cell_type": "code",
   "execution_count": null,
   "id": "a37d9199",
   "metadata": {},
   "outputs": [],
   "source": [
    "female = X_train.loc[X_train.Sex == 'female'][\"Survived\"]\n",
    "survived = sum(female) / len(female)\n",
    "\n",
    "print(\"The percentage of survivng women is:\", survived)"
   ]
  },
  {
   "cell_type": "code",
   "execution_count": null,
   "id": "1dfa40c2",
   "metadata": {},
   "outputs": [],
   "source": [
    "male = X_train.loc[X_train.Sex == 'male'][\"Survived\"]\n",
    "survived = sum(male) / len(male)\n",
    "\n",
    "print(\"The percentage of surviving men are:\", survived)"
   ]
  },
  {
   "cell_type": "code",
   "execution_count": null,
   "id": "5bad51c3",
   "metadata": {},
   "outputs": [],
   "source": [
    "from sklearn.ensemble import RandomForestClassifier"
   ]
  },
  {
   "cell_type": "code",
   "execution_count": null,
   "id": "5cee78a4",
   "metadata": {},
   "outputs": [],
   "source": [
    "Y_train = X_train[\"Survived\"]\n",
    "\n",
    "features = [\"Pclass\", \"Sex\", \"SibSp\", \"Parch\"]\n",
    "X1_train = pd.get_dummies(X_train[features])\n",
    "X1_test = pd.get_dummies(X_test[features])\n",
    "\n",
    "model = RandomForestClassifier(n_estimators=100, max_depth=5, random_state=1)\n",
    "model.fit(X1_train, Y_train)\n",
    "predictions = model.predict(X1_test)\n",
    "\n",
    "output = pd.DataFrame({'PassengerId': X_test.PassengerId, 'Survived': predictions})\n",
    "output.to_csv('submission.csv', index=False)\n",
    "print(\"Output saved to submission.csv\")"
   ]
  },
  {
   "cell_type": "code",
   "execution_count": null,
   "id": "f79fa153",
   "metadata": {},
   "outputs": [],
   "source": []
  }
 ],
 "metadata": {
  "kernelspec": {
   "display_name": "Python 3 (ipykernel)",
   "language": "python",
   "name": "python3"
  },
  "language_info": {
   "codemirror_mode": {
    "name": "ipython",
    "version": 3
   },
   "file_extension": ".py",
   "mimetype": "text/x-python",
   "name": "python",
   "nbconvert_exporter": "python",
   "pygments_lexer": "ipython3",
   "version": "3.11.5"
  }
 },
 "nbformat": 4,
 "nbformat_minor": 5
}
